{
 "cells": [
  {
   "cell_type": "code",
   "execution_count": 3,
   "metadata": {},
   "outputs": [],
   "source": [
    "from IPython.display import clear_output\n",
    "import random"
   ]
  },
  {
   "cell_type": "code",
   "execution_count": 4,
   "metadata": {},
   "outputs": [],
   "source": [
    "def display_board(board):\n",
    "    \n",
    "    clear_output() #It removes the previous outputs and displays the updated one\n",
    "    \n",
    "    print(board[7]+' | '+board[8]+' | '+board[9])\n",
    "    print('--|---|---')\n",
    "    print(board[4]+' | '+board[5]+' | '+board[6])\n",
    "    print('--|---|---')\n",
    "    print(board[1]+' | '+board[2]+' | '+board[3])"
   ]
  },
  {
   "cell_type": "code",
   "execution_count": 5,
   "metadata": {},
   "outputs": [
    {
     "name": "stdout",
     "output_type": "stream",
     "text": [
      "O | X | X\n",
      "--|---|---\n",
      "O | X | O\n",
      "--|---|---\n",
      "X | X | O\n"
     ]
    }
   ],
   "source": [
    "#test display_board\n",
    "test_board=['#','X','X','O','O','X','O','O','X','X']\n",
    "display_board(test_board)\n",
    "display_board(test_board)"
   ]
  },
  {
   "cell_type": "code",
   "execution_count": 6,
   "metadata": {},
   "outputs": [],
   "source": [
    "def player_input():\n",
    "    \n",
    "    '''\n",
    "    Returns a tuple in the form of : (Player 1 marker, Player 2 marker)\n",
    "    '''\n",
    "    marker=''\n",
    "    \n",
    "    while (marker!='X' and marker!='O'):\n",
    "        marker= input(\"Player 1, choose X or O: \").upper()\n",
    "        \n",
    "   \n",
    "    if marker=='X':\n",
    "        return('X','O')\n",
    "    else:\n",
    "        return('O','X')\n",
    "    "
   ]
  },
  {
   "cell_type": "code",
   "execution_count": 7,
   "metadata": {},
   "outputs": [],
   "source": [
    "def place_marker(board, marker, position):\n",
    "    board[position]=marker"
   ]
  },
  {
   "cell_type": "code",
   "execution_count": 8,
   "metadata": {},
   "outputs": [
    {
     "name": "stdout",
     "output_type": "stream",
     "text": [
      "O | X | X\n",
      "--|---|---\n",
      "O | X | O\n",
      "--|---|---\n",
      "X | $ | O\n"
     ]
    }
   ],
   "source": [
    "place_marker(test_board, '$', 2)\n",
    "display_board(test_board)"
   ]
  },
  {
   "cell_type": "code",
   "execution_count": 9,
   "metadata": {},
   "outputs": [],
   "source": [
    "def win_check(board, mark):\n",
    "    return((board[1]==board[2]==board[3]==mark)or\n",
    "           (board[4]==board[5]==board[6]==mark)or\n",
    "           (board[7]==board[8]==board[9]==mark)or\n",
    "           (board[1]==board[4]==board[7]==mark)or\n",
    "           (board[2]==board[5]==board[8]==mark)or\n",
    "           (board[3]==board[6]==board[9]==mark)or\n",
    "           (board[1]==board[5]==board[9]==mark)or\n",
    "           (board[3]==board[5]==board[7]==mark))"
   ]
  },
  {
   "cell_type": "code",
   "execution_count": 10,
   "metadata": {},
   "outputs": [
    {
     "data": {
      "text/plain": [
       "True"
      ]
     },
     "execution_count": 10,
     "metadata": {},
     "output_type": "execute_result"
    }
   ],
   "source": [
    "win_check(test_board,'X')"
   ]
  },
  {
   "cell_type": "code",
   "execution_count": 11,
   "metadata": {},
   "outputs": [],
   "source": [
    "def choose_first():\n",
    "    \n",
    "    num=random.randint(0,1)\n",
    "    \n",
    "    if(num==0):\n",
    "        return 'Player 1'\n",
    "    else:\n",
    "        return 'Player 2'\n",
    "    "
   ]
  },
  {
   "cell_type": "code",
   "execution_count": 12,
   "metadata": {},
   "outputs": [],
   "source": [
    "def space_check(board,position):\n",
    "    \n",
    "    return(board[position]==' ')"
   ]
  },
  {
   "cell_type": "code",
   "execution_count": 13,
   "metadata": {},
   "outputs": [],
   "source": [
    "def full_board_check(board):\n",
    "    \n",
    "    for i in range(1,10):\n",
    "        if space_check(board,i):\n",
    "            return False\n",
    "   \n",
    "    return True"
   ]
  },
  {
   "cell_type": "code",
   "execution_count": 14,
   "metadata": {},
   "outputs": [],
   "source": [
    "def player_choice(board):\n",
    "    \n",
    "    position=0\n",
    "    \n",
    "    while(position not in [1,2,3,4,5,6,7,8,9] or not space_check(board,position)):\n",
    "        position= int(input(\"Choose position: (1-9): \"))\n",
    "   \n",
    "    return position"
   ]
  },
  {
   "cell_type": "code",
   "execution_count": 15,
   "metadata": {},
   "outputs": [],
   "source": [
    "def replay():\n",
    "     return input('Do you want to play again? Enter y or n : ').lower().startswith('y')"
   ]
  },
  {
   "cell_type": "code",
   "execution_count": null,
   "metadata": {},
   "outputs": [
    {
     "name": "stdout",
     "output_type": "stream",
     "text": [
      "Welcome to Tic Tac Toe!\n"
     ]
    }
   ],
   "source": [
    "print(\"Welcome to Tic Tac Toe!\")\n",
    "\n",
    "\n",
    "\n",
    "while True:\n",
    "    #set up the board\n",
    "    the_board=[' ']*10\n",
    "    player1_marker, player2_marker= player_input()\n",
    "    \n",
    "    turn= choose_first()\n",
    "    print(turn+\" will go first\")\n",
    "    \n",
    "    play_game= input(\"Ready to play? (y or n) : \")\n",
    "    if play_game=='y':\n",
    "        game_on=True\n",
    "    else:\n",
    "        game_on=False\n",
    "   \n",
    "    while game_on:\n",
    "        if turn=='Player 1':\n",
    "            \n",
    "            #show the board\n",
    "            display_board(the_board)\n",
    "            \n",
    "            #choose a position\n",
    "            position= player_choice(the_board)\n",
    "            \n",
    "            #place the mark on the position\n",
    "            place_marker(the_board,player1_marker, position)\n",
    "            \n",
    "            #check if they won\n",
    "            if win_check(the_board,player1_marker):\n",
    "                display_board(the_board)\n",
    "                print(\"Player 1 has won !\")\n",
    "                game_on=False\n",
    "            else:\n",
    "                if full_board_check(the_board):\n",
    "                    display_board(the_board)\n",
    "                    print('TIE GAME !')\n",
    "                    game_on=False\n",
    "                else:\n",
    "                    turn='Player 2'\n",
    "            \n",
    "            \n",
    "            \n",
    "        # for player 2\n",
    "        else:\n",
    "             #show the board\n",
    "            display_board(the_board)\n",
    "            \n",
    "            #choose a position\n",
    "            position= player_choice(the_board)\n",
    "            \n",
    "            #place the mark on the position\n",
    "            place_marker(the_board,player2_marker, position)\n",
    "            \n",
    "            #check if they won\n",
    "            if win_check(the_board,player2_marker):\n",
    "                display_board(the_board)\n",
    "                print(\"Player 2 has won !\")\n",
    "                game_on=False\n",
    "            else:\n",
    "                if full_board_check(the_board):\n",
    "                    display_board(the_board)\n",
    "                    print('TIE GAME')\n",
    "                    game_on=False\n",
    "                else:\n",
    "                    turn='Player 1'\n",
    "                    \n",
    "    if not replay():\n",
    "        break\n",
    "            \n",
    "            "
   ]
  },
  {
   "cell_type": "code",
   "execution_count": null,
   "metadata": {},
   "outputs": [],
   "source": []
  },
  {
   "cell_type": "code",
   "execution_count": null,
   "metadata": {},
   "outputs": [],
   "source": []
  },
  {
   "cell_type": "code",
   "execution_count": null,
   "metadata": {},
   "outputs": [],
   "source": []
  }
 ],
 "metadata": {
  "kernelspec": {
   "display_name": "Python 3",
   "language": "python",
   "name": "python3"
  },
  "language_info": {
   "codemirror_mode": {
    "name": "ipython",
    "version": 3
   },
   "file_extension": ".py",
   "mimetype": "text/x-python",
   "name": "python",
   "nbconvert_exporter": "python",
   "pygments_lexer": "ipython3",
   "version": "3.7.6"
  }
 },
 "nbformat": 4,
 "nbformat_minor": 4
}
